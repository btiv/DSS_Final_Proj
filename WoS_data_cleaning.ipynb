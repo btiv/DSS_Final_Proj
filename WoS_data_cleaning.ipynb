{
 "cells": [
  {
   "cell_type": "code",
   "execution_count": null,
   "id": "3da25b11",
   "metadata": {},
   "outputs": [],
   "source": [
    "import pandas as pd\n",
    "import numpy as np\n",
    "import matplotlib.pyplot as plt"
   ]
  },
  {
   "cell_type": "code",
   "execution_count": null,
   "id": "f2028cd5",
   "metadata": {},
   "outputs": [],
   "source": [
    "# get the new WoS data that was found usin keyword \"biodiversity\"\n",
    "biodiversity_df = pd.read_excel('Data_WOS/Data_WOS/paper_data_0.xls')"
   ]
  },
  {
   "cell_type": "code",
   "execution_count": null,
   "id": "3fc7e390",
   "metadata": {},
   "outputs": [],
   "source": [
    "for i in range(1, 199):\n",
    "    if i != 110:\n",
    "        temp_df = pd.read_excel(f'Data_WOS/Data_WOS/paper_data_{i}.xls')\n",
    "        biodiversity_df = pd.concat([biodiversity_df, temp_df])"
   ]
  },
  {
   "cell_type": "code",
   "execution_count": null,
   "id": "1a3a2ae0",
   "metadata": {},
   "outputs": [],
   "source": [
    "biodiversity_df = biodiversity_df.reset_index(drop=True)"
   ]
  },
  {
   "cell_type": "code",
   "execution_count": null,
   "id": "7d961f01",
   "metadata": {},
   "outputs": [],
   "source": [
    "len(biodiversity_df)"
   ]
  },
  {
   "cell_type": "code",
   "execution_count": null,
   "id": "28a07f27",
   "metadata": {},
   "outputs": [],
   "source": [
    "biodiversity_df.columns"
   ]
  },
  {
   "cell_type": "code",
   "execution_count": null,
   "id": "44a7fb8d",
   "metadata": {},
   "outputs": [],
   "source": [
    "biodiversity_df = biodiversity_df.drop(columns=['Unnamed: 69', 'Hot Paper Status', 'Date of Export', 'Pubmed Id', 'Highly Cited Status', 'Special Issue'])"
   ]
  },
  {
   "cell_type": "code",
   "execution_count": null,
   "id": "b1659b97",
   "metadata": {},
   "outputs": [],
   "source": [
    "# drop rows without a title, year, authors, locations, citations\n",
    "biodiversity_df = biodiversity_df.dropna(subset=['Authors', 'Addresses', 'Publication Year', 'Article Title', 'Times Cited, All Databases'])"
   ]
  },
  {
   "cell_type": "code",
   "execution_count": null,
   "id": "852e3ec8",
   "metadata": {},
   "outputs": [],
   "source": [
    "len(biodiversity_df)"
   ]
  },
  {
   "cell_type": "code",
   "execution_count": null,
   "id": "2cba9d50",
   "metadata": {},
   "outputs": [],
   "source": [
    "# filter out titles that contain marine biodiveristy keywords\n",
    "biodiversity_df = biodiversity_df[biodiversity_df['Article Title'].str.contains('marine', case=False) == 0]\n",
    "biodiversity_df = biodiversity_df.reset_index(drop=True)\n",
    "biodiversity_df = biodiversity_df[biodiversity_df['Article Title'].str.contains('ocean', case=False) == 0]\n",
    "biodiversity_df = biodiversity_df.reset_index(drop=True)\n",
    "biodiversity_df = biodiversity_df[biodiversity_df['Article Title'].str.contains('fish', case=False) == 0]\n",
    "biodiversity_df = biodiversity_df.reset_index(drop=True)\n",
    "biodiversity_df = biodiversity_df[biodiversity_df['Article Title'].str.contains('coral', case=False) == 0]\n",
    "biodiversity_df = biodiversity_df.reset_index(drop=True)\n",
    "biodiversity_df = biodiversity_df[biodiversity_df['Article Title'].str.contains('reef', case=False) == 0]\n",
    "biodiversity_df = biodiversity_df.reset_index(drop=True)"
   ]
  },
  {
   "cell_type": "code",
   "execution_count": null,
   "id": "52e9bd32",
   "metadata": {},
   "outputs": [],
   "source": [
    "len(biodiversity_df)"
   ]
  },
  {
   "cell_type": "code",
   "execution_count": null,
   "id": "f83896b3",
   "metadata": {},
   "outputs": [],
   "source": [
    "biodiversity_df.to_csv('land_biodiversity_research.csv')"
   ]
  }
 ],
 "metadata": {
  "kernelspec": {
   "display_name": "Python 3 (ipykernel)",
   "language": "python",
   "name": "python3"
  },
  "language_info": {
   "codemirror_mode": {
    "name": "ipython",
    "version": 3
   },
   "file_extension": ".py",
   "mimetype": "text/x-python",
   "name": "python",
   "nbconvert_exporter": "python",
   "pygments_lexer": "ipython3",
   "version": "3.9.7"
  }
 },
 "nbformat": 4,
 "nbformat_minor": 5
}
