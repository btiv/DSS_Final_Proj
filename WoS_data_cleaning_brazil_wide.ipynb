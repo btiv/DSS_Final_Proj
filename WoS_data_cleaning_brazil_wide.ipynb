{
 "cells": [
  {
   "cell_type": "code",
   "execution_count": 5,
   "metadata": {
    "id": "3da25b11"
   },
   "outputs": [],
   "source": [
    "import pandas as pd\n",
    "import numpy as np\n",
    "import matplotlib.pyplot as plt"
   ]
  },
  {
   "cell_type": "code",
   "execution_count": 6,
   "metadata": {
    "id": "uCX3GLmOKciu"
   },
   "outputs": [],
   "source": [
    "deforestation_df = pd.read_excel('data/Brazil_research/raw_data/savedrecs 1_1000.xls')"
   ]
  },
  {
   "cell_type": "code",
   "execution_count": 7,
   "metadata": {
    "id": "3fc7e390"
   },
   "outputs": [],
   "source": [
    "for i in range(1000, 43000, 1000):\n",
    "    temp_df = pd.read_excel(f'data/Brazil_research/raw_data/savedrecs {i+1}_{i+1000}.xls')\n",
    "    deforestation_df = pd.concat([deforestation_df, temp_df])"
   ]
  },
  {
   "cell_type": "code",
   "execution_count": 8,
   "metadata": {},
   "outputs": [],
   "source": [
    "temp_df = pd.read_excel('data/Brazil_research/raw_data/savedrecs 43001_43248.xls')\n",
    "deforestation_df = pd.concat([deforestation_df, temp_df])"
   ]
  },
  {
   "cell_type": "code",
   "execution_count": 9,
   "metadata": {
    "colab": {
     "base_uri": "https://localhost:8080/"
    },
    "executionInfo": {
     "elapsed": 130,
     "status": "ok",
     "timestamp": 1651849726800,
     "user": {
      "displayName": "Brendan Tivnan",
      "userId": "10894345000421497901"
     },
     "user_tz": 240
    },
    "id": "7d961f01",
    "outputId": "d09d2022-00a4-49b7-d420-89c005813951"
   },
   "outputs": [
    {
     "data": {
      "text/plain": [
       "43248"
      ]
     },
     "execution_count": 9,
     "metadata": {},
     "output_type": "execute_result"
    }
   ],
   "source": [
    "len(deforestation_df)"
   ]
  },
  {
   "cell_type": "code",
   "execution_count": 10,
   "metadata": {
    "colab": {
     "base_uri": "https://localhost:8080/",
     "height": 448
    },
    "executionInfo": {
     "elapsed": 125,
     "status": "ok",
     "timestamp": 1651849729296,
     "user": {
      "displayName": "Brendan Tivnan",
      "userId": "10894345000421497901"
     },
     "user_tz": 240
    },
    "id": "0MMqsqGdBR_J",
    "outputId": "deff8798-22ef-4509-eaa9-4d98cda67ac3"
   },
   "outputs": [
    {
     "data": {
      "text/html": [
       "<div>\n",
       "<style scoped>\n",
       "    .dataframe tbody tr th:only-of-type {\n",
       "        vertical-align: middle;\n",
       "    }\n",
       "\n",
       "    .dataframe tbody tr th {\n",
       "        vertical-align: top;\n",
       "    }\n",
       "\n",
       "    .dataframe thead th {\n",
       "        text-align: right;\n",
       "    }\n",
       "</style>\n",
       "<table border=\"1\" class=\"dataframe\">\n",
       "  <thead>\n",
       "    <tr style=\"text-align: right;\">\n",
       "      <th></th>\n",
       "      <th>Publication Type</th>\n",
       "      <th>Authors</th>\n",
       "      <th>Book Authors</th>\n",
       "      <th>Book Editors</th>\n",
       "      <th>Book Group Authors</th>\n",
       "      <th>Author Full Names</th>\n",
       "      <th>Book Author Full Names</th>\n",
       "      <th>Group Authors</th>\n",
       "      <th>Article Title</th>\n",
       "      <th>Source Title</th>\n",
       "      <th>...</th>\n",
       "      <th>WoS Categories</th>\n",
       "      <th>Web of Science Index</th>\n",
       "      <th>Research Areas</th>\n",
       "      <th>IDS Number</th>\n",
       "      <th>Pubmed Id</th>\n",
       "      <th>Open Access Designations</th>\n",
       "      <th>Highly Cited Status</th>\n",
       "      <th>Hot Paper Status</th>\n",
       "      <th>Date of Export</th>\n",
       "      <th>UT (Unique WOS ID)</th>\n",
       "    </tr>\n",
       "  </thead>\n",
       "  <tbody>\n",
       "    <tr>\n",
       "      <td>0</td>\n",
       "      <td>J</td>\n",
       "      <td>McLean, RC</td>\n",
       "      <td>NaN</td>\n",
       "      <td>NaN</td>\n",
       "      <td>NaN</td>\n",
       "      <td>McLean, RC</td>\n",
       "      <td>NaN</td>\n",
       "      <td>NaN</td>\n",
       "      <td>Studies in the ecology of tropic al rain-fores...</td>\n",
       "      <td>JOURNAL OF ECOLOGY</td>\n",
       "      <td>...</td>\n",
       "      <td>NaN</td>\n",
       "      <td>NaN</td>\n",
       "      <td>NaN</td>\n",
       "      <td>NaN</td>\n",
       "      <td>NaN</td>\n",
       "      <td>NaN</td>\n",
       "      <td>NaN</td>\n",
       "      <td>NaN</td>\n",
       "      <td>2022-05-05</td>\n",
       "      <td>WOS:000200136600002</td>\n",
       "    </tr>\n",
       "    <tr>\n",
       "      <td>1</td>\n",
       "      <td>J</td>\n",
       "      <td>McLean, RC</td>\n",
       "      <td>NaN</td>\n",
       "      <td>NaN</td>\n",
       "      <td>NaN</td>\n",
       "      <td>McLean, RC</td>\n",
       "      <td>NaN</td>\n",
       "      <td>NaN</td>\n",
       "      <td>Studies in the ecology of tropical rain-forest...</td>\n",
       "      <td>JOURNAL OF ECOLOGY</td>\n",
       "      <td>...</td>\n",
       "      <td>NaN</td>\n",
       "      <td>NaN</td>\n",
       "      <td>NaN</td>\n",
       "      <td>NaN</td>\n",
       "      <td>NaN</td>\n",
       "      <td>NaN</td>\n",
       "      <td>NaN</td>\n",
       "      <td>NaN</td>\n",
       "      <td>2022-05-05</td>\n",
       "      <td>WOS:000200136600007</td>\n",
       "    </tr>\n",
       "  </tbody>\n",
       "</table>\n",
       "<p>2 rows × 69 columns</p>\n",
       "</div>"
      ],
      "text/plain": [
       "  Publication Type     Authors Book Authors Book Editors Book Group Authors  \\\n",
       "0                J  McLean, RC          NaN          NaN                NaN   \n",
       "1                J  McLean, RC          NaN          NaN                NaN   \n",
       "\n",
       "  Author Full Names Book Author Full Names Group Authors  \\\n",
       "0        McLean, RC                    NaN           NaN   \n",
       "1        McLean, RC                    NaN           NaN   \n",
       "\n",
       "                                       Article Title        Source Title  ...  \\\n",
       "0  Studies in the ecology of tropic al rain-fores...  JOURNAL OF ECOLOGY  ...   \n",
       "1  Studies in the ecology of tropical rain-forest...  JOURNAL OF ECOLOGY  ...   \n",
       "\n",
       "  WoS Categories Web of Science Index  Research Areas IDS Number Pubmed Id  \\\n",
       "0            NaN                  NaN             NaN        NaN       NaN   \n",
       "1            NaN                  NaN             NaN        NaN       NaN   \n",
       "\n",
       "  Open Access Designations Highly Cited Status  Hot Paper Status  \\\n",
       "0                      NaN                 NaN               NaN   \n",
       "1                      NaN                 NaN               NaN   \n",
       "\n",
       "  Date of Export   UT (Unique WOS ID)  \n",
       "0     2022-05-05  WOS:000200136600002  \n",
       "1     2022-05-05  WOS:000200136600007  \n",
       "\n",
       "[2 rows x 69 columns]"
      ]
     },
     "execution_count": 10,
     "metadata": {},
     "output_type": "execute_result"
    }
   ],
   "source": [
    "deforestation_df.head(2)"
   ]
  },
  {
   "cell_type": "code",
   "execution_count": 11,
   "metadata": {
    "colab": {
     "base_uri": "https://localhost:8080/",
     "height": 122
    },
    "executionInfo": {
     "elapsed": 117,
     "status": "ok",
     "timestamp": 1651849732865,
     "user": {
      "displayName": "Brendan Tivnan",
      "userId": "10894345000421497901"
     },
     "user_tz": 240
    },
    "id": "97360be5",
    "outputId": "a46bf8f1-2ff7-4377-fcb1-b739330af955"
   },
   "outputs": [
    {
     "data": {
      "text/plain": [
       "'Univ Calif Berkeley, Dept Anthropol, Berkeley, CA USA; Fac Filosofia & Letras, Museo Etnograf, Buenos Aires, DF, Argentina; Museo Nacl, Rio De Janeiro, Brazil; Duke Univ, Dept Sociol & Anthropol, Durham, NC USA; Inter Amer Affairs, Washington, DC USA; Rubber Dev Corp, Washington, DC USA; Columbia Broadcasting Systm Televis, New York, NY USA; Escuela Nacl Antropol, Inst Nacl Antropol, Mexico City, DF, Mexico; New Sch Social Res, Ecole Libre Hautes Etudes, New York, NY USA; Off War Informat, Washington, DC USA; Univ Michigan, Museum Anthropol, Ann Arbor, MI USA; Smithsonian Inst, Washington, DC USA; Museu Paraense Emilio Goeldi, Belem, Brazil; Smithsonian Inst, Inst Social Anthropol, Washington, DC USA; Columbia Univ, Dept Anthropol, New York, NY USA'"
      ]
     },
     "execution_count": 11,
     "metadata": {},
     "output_type": "execute_result"
    }
   ],
   "source": [
    "deforestation_df.iloc[4]['Addresses']"
   ]
  },
  {
   "cell_type": "code",
   "execution_count": 12,
   "metadata": {
    "colab": {
     "base_uri": "https://localhost:8080/",
     "height": 35
    },
    "executionInfo": {
     "elapsed": 162,
     "status": "ok",
     "timestamp": 1651849735354,
     "user": {
      "displayName": "Brendan Tivnan",
      "userId": "10894345000421497901"
     },
     "user_tz": 240
    },
    "id": "c3ebf44b",
    "outputId": "17e57551-ebf5-47de-960c-ed23c38e4dac"
   },
   "outputs": [
    {
     "data": {
      "text/plain": [
       "'DISPERSION OF FOREST MOSQUITOES IN BRAZIL - FURTHER STUDIES'"
      ]
     },
     "execution_count": 12,
     "metadata": {},
     "output_type": "execute_result"
    }
   ],
   "source": [
    "deforestation_df.iloc[5]['Article Title']"
   ]
  },
  {
   "cell_type": "code",
   "execution_count": 13,
   "metadata": {
    "id": "e7314710"
   },
   "outputs": [],
   "source": [
    "deforestation_df = deforestation_df.drop(columns=['Hot Paper Status', 'Date of Export', 'Pubmed Id', 'Highly Cited Status', 'Special Issue'])"
   ]
  },
  {
   "cell_type": "code",
   "execution_count": 14,
   "metadata": {
    "id": "44a7fb8d"
   },
   "outputs": [],
   "source": [
    "# deforestation_df = deforestation_df.drop(columns=['Unnamed: 69', 'Hot Paper Status', 'Date of Export', 'Pubmed Id', 'Highly Cited Status', 'Special Issue'])"
   ]
  },
  {
   "cell_type": "code",
   "execution_count": 15,
   "metadata": {
    "id": "b1659b97"
   },
   "outputs": [],
   "source": [
    "# drop rows without a title, year, authors, locations, citations\n",
    "# deforestation_df = deforestation_df.dropna(subset=['Authors', 'Addresses', 'Publication Year', 'Article Title', 'Times Cited, All Databases'])\n",
    "deforestation_df = deforestation_df.dropna(subset=['Addresses', 'Publication Year', 'Times Cited, WoS Core'])"
   ]
  },
  {
   "cell_type": "code",
   "execution_count": 16,
   "metadata": {
    "colab": {
     "base_uri": "https://localhost:8080/"
    },
    "executionInfo": {
     "elapsed": 115,
     "status": "ok",
     "timestamp": 1651849747781,
     "user": {
      "displayName": "Brendan Tivnan",
      "userId": "10894345000421497901"
     },
     "user_tz": 240
    },
    "id": "852e3ec8",
    "outputId": "8d4ea370-f7ec-42ce-b7de-63b708070136"
   },
   "outputs": [
    {
     "data": {
      "text/plain": [
       "42070"
      ]
     },
     "execution_count": 16,
     "metadata": {},
     "output_type": "execute_result"
    }
   ],
   "source": [
    "len(deforestation_df)"
   ]
  },
  {
   "cell_type": "code",
   "execution_count": 18,
   "metadata": {
    "id": "f83896b3"
   },
   "outputs": [],
   "source": [
    "deforestation_df.to_csv('data/Brazil_research/cleaned_data/Brazil_focused_research.csv')"
   ]
  },
  {
   "cell_type": "code",
   "execution_count": 19,
   "metadata": {
    "colab": {
     "base_uri": "https://localhost:8080/"
    },
    "executionInfo": {
     "elapsed": 36776,
     "status": "ok",
     "timestamp": 1651849800745,
     "user": {
      "displayName": "Brendan Tivnan",
      "userId": "10894345000421497901"
     },
     "user_tz": 240
    },
    "id": "5ef06cd0",
    "outputId": "3aa9fc18-75b1-4e18-c5c6-4f382ba80c3d"
   },
   "outputs": [
    {
     "name": "stderr",
     "output_type": "stream",
     "text": [
      "C:\\Users\\freja\\Anaconda3\\lib\\site-packages\\IPython\\core\\interactiveshell.py:3058: DtypeWarning: Columns (12,19,47,56,57) have mixed types. Specify dtype option on import or set low_memory=False.\n",
      "  interactivity=interactivity, compiler=compiler, result=result)\n",
      "C:\\Users\\freja\\Anaconda3\\lib\\site-packages\\pandas\\core\\strings.py:1843: UserWarning: This pattern has match groups. To actually get the groups, use str.extract.\n",
      "  return func(self, *args, **kwargs)\n"
     ]
    }
   ],
   "source": [
    "# reasearch location assignment\n",
    "country_name_df = pd.read_csv('data/country_names.csv')\n",
    "country_names = np.array(country_name_df['name'].unique())\n",
    "country_names = np.append(country_names, ['USA', 'England', 'Ireland', 'Korea', 'Moldova', 'Micronesia', \n",
    "                                          'Saint Martin', 'Sint Maarten', 'Tanzania', 'United Kingdom', 'UK',\n",
    "                                         'United States', 'Virgin Islands'])\n",
    "\n",
    "country_brazil = np.array(['Brazil'])\n",
    "country_names_no_brazil = np.setdiff1d(country_names, country_brazil)\n",
    "\n",
    "deforestation_df = pd.read_csv('data/Brazil_research/cleaned_data/Brazil_focused_research.csv')\n",
    "\n",
    "domestic_brazil_df = deforestation_df[deforestation_df['Addresses'].str.contains('|'.join(country_names_no_brazil), case=False) == False]\n",
    "domestic_brazil_df = domestic_brazil_df[domestic_brazil_df['Addresses'].str.contains('Brazil', case=False) == True]\n",
    "domestic_brazil_df = domestic_brazil_df.reset_index(drop=True)\n",
    "\n",
    "international_brazil_df = deforestation_df[deforestation_df['Addresses'].str.contains('Brazil', case=False) == False]\n",
    "\n",
    "# make sure that addresses at least contain some country\n",
    "international_brazil_df = international_brazil_df[international_brazil_df['Addresses'].str.contains('|'.join(country_names_no_brazil), case=False) == True]\n",
    "international_brazil_df = international_brazil_df.reset_index(drop=True)"
   ]
  },
  {
   "cell_type": "code",
   "execution_count": 20,
   "metadata": {
    "colab": {
     "base_uri": "https://localhost:8080/"
    },
    "executionInfo": {
     "elapsed": 7801,
     "status": "ok",
     "timestamp": 1651849814585,
     "user": {
      "displayName": "Brendan Tivnan",
      "userId": "10894345000421497901"
     },
     "user_tz": 240
    },
    "id": "aaf706a5",
    "outputId": "922d4648-604f-4182-dbd5-16f03181b189"
   },
   "outputs": [],
   "source": [
    "collaboration_brazil_df = pd.concat([deforestation_df, domestic_brazil_df, international_brazil_df]).drop_duplicates(keep=False)\n",
    "\n",
    "# make sure that addresses at least contain some country\n",
    "collaboration_brazil_df = collaboration_brazil_df[collaboration_brazil_df['Addresses'].str.contains('|'.join(country_names), case=False) == True]\n",
    "collaboration_brazil_df = collaboration_brazil_df.reset_index(drop=True)"
   ]
  },
  {
   "cell_type": "code",
   "execution_count": 21,
   "metadata": {
    "colab": {
     "base_uri": "https://localhost:8080/"
    },
    "executionInfo": {
     "elapsed": 123,
     "status": "ok",
     "timestamp": 1651849847753,
     "user": {
      "displayName": "Brendan Tivnan",
      "userId": "10894345000421497901"
     },
     "user_tz": 240
    },
    "id": "V5BgBXTN5fhW",
    "outputId": "b0f6021c-63c8-4ccc-f11e-b32af9520a21"
   },
   "outputs": [
    {
     "data": {
      "text/plain": [
       "1948.0"
      ]
     },
     "execution_count": 21,
     "metadata": {},
     "output_type": "execute_result"
    }
   ],
   "source": [
    "collaboration_brazil_df['Publication Year'].min()"
   ]
  },
  {
   "cell_type": "code",
   "execution_count": 22,
   "metadata": {
    "id": "c0a77e5d"
   },
   "outputs": [],
   "source": [
    "domestic_brazil_df.to_csv('data/Brazil_research/cleaned_data/domestic_brazil_research.csv')\n",
    "international_brazil_df.to_csv('data/Brazil_research/cleaned_data/international_brazil_research.csv')\n",
    "collaboration_brazil_df.to_csv('data/Brazil_research/cleaned_data/collaboration_brazil_research.csv')"
   ]
  },
  {
   "cell_type": "code",
   "execution_count": null,
   "metadata": {
    "id": "12a47f98"
   },
   "outputs": [],
   "source": []
  },
  {
   "cell_type": "code",
   "execution_count": null,
   "metadata": {
    "id": "86f306f2"
   },
   "outputs": [],
   "source": []
  }
 ],
 "metadata": {
  "colab": {
   "collapsed_sections": [],
   "name": "WoS_data_cleaning.ipynb",
   "provenance": []
  },
  "kernelspec": {
   "display_name": "Python 3",
   "language": "python",
   "name": "python3"
  },
  "language_info": {
   "codemirror_mode": {
    "name": "ipython",
    "version": 3
   },
   "file_extension": ".py",
   "mimetype": "text/x-python",
   "name": "python",
   "nbconvert_exporter": "python",
   "pygments_lexer": "ipython3",
   "version": "3.7.4"
  }
 },
 "nbformat": 4,
 "nbformat_minor": 5
}
