{
 "cells": [
  {
   "cell_type": "code",
   "execution_count": null,
   "id": "8c9bf87e",
   "metadata": {},
   "outputs": [],
   "source": [
    "import pandas as pd\n",
    "import numpy as np"
   ]
  },
  {
   "cell_type": "code",
   "execution_count": null,
   "id": "22b009cd",
   "metadata": {},
   "outputs": [],
   "source": [
    "biodiversity_df = pd.read_csv('land_biodiversity_research.csv')"
   ]
  },
  {
   "cell_type": "code",
   "execution_count": null,
   "id": "76bb53b9",
   "metadata": {},
   "outputs": [],
   "source": [
    "# attribute articles by country, parsing through the addresses column\n",
    "for country_str in protected_df['Country'].unique()[:len(protected_df['Country'].unique())-1]:\n",
    "    if country_str == 'United Kingdom':\n",
    "        country_df = biodiversity_df[biodiversity_df['Addresses'].str.contains(country_str, case=False) == 1 | biodiversity_df['Addresses'].str.contains('UK', case=False) | biodiversity_df['Addresses'].str.contains('England', case=False)]\n",
    "        country_df = country_df.reset_index(drop=True)\n",
    "        country_df.to_csv(f'{country_str}_biodiversity_research.csv')\n",
    "    elif country_str == 'United States':\n",
    "        country_df = biodiversity_df[biodiversity_df['Addresses'].str.contains(country_str, case=False) == 1 | biodiversity_df['Addresses'].str.contains('US', case=False) | biodiversity_df['Addresses'].str.contains('USA', case=False)]\n",
    "        country_df = country_df.reset_index(drop=True)\n",
    "        country_df.to_csv(f'{country_str}_biodiversity_research.csv')\n",
    "    elif country_str == \"China (People's Republic of)\":\n",
    "        country_df = biodiversity_df[biodiversity_df['Addresses'].str.contains(country_str, case=False) == 1 | biodiversity_df['Addresses'].str.contains('China', case=False)]\n",
    "        country_df = country_df.reset_index(drop=True)\n",
    "        country_df.to_csv(f'{country_str}_biodiversity_research.csv')\n",
    "    else:    \n",
    "        country_df = biodiversity_df[biodiversity_df['Addresses'].str.contains(country_str, case=False) == 1]\n",
    "        country_df = country_df.reset_index(drop=True)\n",
    "        country_df.to_csv(f'{country_str}_biodiversity_research.csv')"
   ]
  }
 ],
 "metadata": {
  "kernelspec": {
   "display_name": "Python 3 (ipykernel)",
   "language": "python",
   "name": "python3"
  },
  "language_info": {
   "codemirror_mode": {
    "name": "ipython",
    "version": 3
   },
   "file_extension": ".py",
   "mimetype": "text/x-python",
   "name": "python",
   "nbconvert_exporter": "python",
   "pygments_lexer": "ipython3",
   "version": "3.9.7"
  }
 },
 "nbformat": 4,
 "nbformat_minor": 5
}
