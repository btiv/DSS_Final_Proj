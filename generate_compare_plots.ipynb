{
 "cells": [
  {
   "cell_type": "code",
   "execution_count": null,
   "id": "90dfb312",
   "metadata": {},
   "outputs": [],
   "source": [
    "import pandas as pd\n",
    "import numpy as np\n",
    "import matplotlib.pyplot as plt"
   ]
  },
  {
   "cell_type": "code",
   "execution_count": null,
   "id": "ed499565",
   "metadata": {},
   "outputs": [],
   "source": [
    "protected_df = pd.read_csv('protected_land_cleaned.csv')"
   ]
  },
  {
   "cell_type": "code",
   "execution_count": null,
   "id": "299c3968",
   "metadata": {},
   "outputs": [],
   "source": [
    "for country_str in protected_df['Country'].unique()[:len(protected_df['Country'].unique()) - 1]:\n",
    "    country_df = protected_df[protected_df['Country'] == country_str]\n",
    "    country_df = country_df.reset_index(drop=True)\n",
    "    country_research_df = pd.read_csv(f\"{country_str}_biodiversity_research.csv\")\n",
    "    country_year_counts = country_research_df['Publication Year'].value_counts()\n",
    "    country_year_counts = country_year_counts.sort_index()\n",
    "\n",
    "    fig, ax1 = plt.subplots()\n",
    "\n",
    "    ax1.set_xlabel('Year')\n",
    "    ax1.set_ylabel('Protected Land Percentage', color='g')\n",
    "    ax1.plot(country_df['Year'].tail(23), country_df['Value'].tail(23), color='g', label='Protected Land')\n",
    "    ax1.tick_params(axis='y', labelcolor='g')\n",
    "\n",
    "    ax2 = ax1.twinx()  # instantiate a second axes that shares the same x-axis\n",
    "\n",
    "    color = 'b'\n",
    "    ax2.set_ylabel('Number of Research Articles', color=color)  # we already handled the x-label with ax1\n",
    "    ax2.plot(country_year_counts.index[:len(country_year_counts)-1], country_year_counts.values[:len(country_year_counts)-1], color='b', label='Research Articles')\n",
    "    ax2.tick_params(axis='y', labelcolor='b')\n",
    "\n",
    "    fig.tight_layout()  # otherwise the right y-label is slightly clipped\n",
    "    ax2.set_title(f'Number of Research Articles and Protected Land % for {country_str}')\n",
    "    plt.savefig(f'Comp_Plots/{country_str}_plot.png', bbox_inches='tight')"
   ]
  }
 ],
 "metadata": {
  "kernelspec": {
   "display_name": "Python 3 (ipykernel)",
   "language": "python",
   "name": "python3"
  },
  "language_info": {
   "codemirror_mode": {
    "name": "ipython",
    "version": 3
   },
   "file_extension": ".py",
   "mimetype": "text/x-python",
   "name": "python",
   "nbconvert_exporter": "python",
   "pygments_lexer": "ipython3",
   "version": "3.9.7"
  }
 },
 "nbformat": 4,
 "nbformat_minor": 5
}
