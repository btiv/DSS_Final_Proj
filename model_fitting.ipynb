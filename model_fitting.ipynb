{
 "cells": [
  {
   "cell_type": "code",
   "execution_count": 3,
   "id": "c870d384",
   "metadata": {},
   "outputs": [],
   "source": [
    "import pandas as pd\n",
    "import numpy as np\n",
    "from sklearn.linear_model import LinearRegression"
   ]
  },
  {
   "cell_type": "code",
   "execution_count": 107,
   "id": "42f1c1c0",
   "metadata": {},
   "outputs": [],
   "source": [
    "# choose a list of 5 countries to start with abundant data\n",
    "countries = ['India', 'Canada', 'Spain', 'Norway', 'Brazil']"
   ]
  },
  {
   "cell_type": "code",
   "execution_count": 112,
   "id": "d07a9c4b",
   "metadata": {},
   "outputs": [],
   "source": [
    "def compute_percent_change_features(country_list, start_date, train_date, test_date):\n",
    "    def percent_change(new, original):\n",
    "        return (new - original) / original\n",
    "    \n",
    "    # store dataframes in lists\n",
    "    df_list = []\n",
    "\n",
    "    for country in countries:\n",
    "        country_df = pd.read_csv(f'{country}_biodiversity_research.csv')\n",
    "        country_df = country_df[country_df['Country Specific Authors'] > 0]\n",
    "        country_df = country_df.reset_index(drop=True)\n",
    "\n",
    "        # get papers from 1998 and onwards\n",
    "        country_df = country_df[country_df['Publication Year'] >= 1998]\n",
    "        country_df = country_df.reset_index(drop=True)\n",
    "        df_list.append(country_df)\n",
    "\n",
    "    country_train = []\n",
    "    country_test = []\n",
    "\n",
    "    for country_data in df_list:\n",
    "        train_data = pd.DataFrame(dict({'Year': np.zeros(train_date - 1998 + 1), 'Paper Volume': np.zeros(train_date - 1998 + 1), 'Mean Adj. Citations': np.zeros(train_date - 1998 + 1), 'Mean Authors': np.zeros(train_date - 1998 + 1), 'Mean Orgs': np.zeros(train_date - 1998 + 1)}))\n",
    "        test_data = pd.DataFrame(dict({'Year': np.zeros(test_date - train_date), 'Paper Volume': np.zeros(test_date - train_date), 'Mean Adj. Citations': np.zeros(test_date - train_date), 'Mean Authors': np.zeros(test_date - train_date), 'Mean Orgs': np.zeros(test_date - train_date)}))\n",
    "        for date in range(1998, test_date + 1):\n",
    "            year_data = country_data[country_data['Publication Year'] == date]\n",
    "            year_data = year_data.reset_index(drop=True)\n",
    "\n",
    "            if date <= train_date:\n",
    "                train_data.iloc[date - 1998] = [date, len(year_data), year_data['Adjusted Citations'].mean(), year_data['Country Specific Authors'].mean(), year_data['Country Specific Orgs'].mean()]\n",
    "            else:\n",
    "                test_data.iloc[date - train_date - 1] = [date, len(year_data), year_data['Adjusted Citations'].mean(), year_data['Country Specific Authors'].mean(), year_data['Country Specific Orgs'].mean()]\n",
    "\n",
    "        country_train.append(train_data)\n",
    "        country_test.append(test_data)\n",
    "    \n",
    "    protected_df = pd.read_csv('protected_land_cleaned.csv')\n",
    "    \n",
    "    # now compute the percent changes starting from start_date (i.e. can start analysis in start_date + 1)\n",
    "    \n",
    "    percent_change_train = []\n",
    "    percent_change_test = []\n",
    "    percent_change_protected_test = []\n",
    "    percent_change_protected_train = []\n",
    "\n",
    "    for train_df in country_train:\n",
    "        percent_train = pd.DataFrame(dict({'Change Volume': np.zeros(train_date - start_date), 'Change Citations': np.zeros(train_date - start_date), 'Change Authors': np.zeros(train_date - start_date), 'Change Orgs': np.zeros(train_date - start_date)}))\n",
    "        for i in range(train_date - start_date):\n",
    "            percent_train.iloc[i] = [percent_change(train_df.iloc[start_date - 1998 + 1 + i]['Paper Volume'], train_df.iloc[start_date - 1998 + i]['Paper Volume']), percent_change(train_df.iloc[start_date - 1998 + 1 + i]['Mean Adj. Citations'], train_df.iloc[start_date - 1998 + i]['Mean Adj. Citations']), percent_change(train_df.iloc[start_date - 1998 + 1 + i]['Mean Authors'], train_df.iloc[start_date - 1998 + i]['Mean Authors']), percent_change(train_df.iloc[start_date - 1998 + 1 + i]['Mean Orgs'], train_df.iloc[start_date - 1998 + i]['Mean Orgs'])]\n",
    "        percent_change_train.append(percent_train)\n",
    "\n",
    "    for test_df in country_test:    \n",
    "        percent_test = pd.DataFrame(dict({'Change Volume': np.zeros(test_date - train_date - 1), 'Change Citations': np.zeros(test_date - train_date - 1), 'Change Authors': np.zeros(test_date - train_date - 1), 'Change Orgs': np.zeros(test_date - train_date - 1)}))\n",
    "        for i in range(test_date - train_date - 1):\n",
    "            percent_test.iloc[i] = [percent_change(test_df.iloc[1 + i]['Paper Volume'], test_df.iloc[0 + i]['Paper Volume']), percent_change(test_df.iloc[1 + i]['Mean Adj. Citations'], test_df.iloc[0 + i]['Mean Adj. Citations']), percent_change(test_df.iloc[1 + i]['Mean Authors'], test_df.iloc[0 + i]['Mean Authors']), percent_change(test_df.iloc[1 + i]['Mean Orgs'], test_df.iloc[0 + i]['Mean Orgs'])]\n",
    "        percent_change_test.append(percent_test)\n",
    "\n",
    "    for country in countries:\n",
    "        country_protected = protected_df[protected_df['Country'] == country]\n",
    "        country_protected = country_protected[country_protected['Year'] >= start_date]\n",
    "        country_protected = country_protected[country_protected['Year'] <= test_date]\n",
    "        country_protected = country_protected.reset_index(drop=True)\n",
    "\n",
    "        protect_change_train = pd.DataFrame(dict({'Change Protected Percent': np.zeros(train_date - start_date)}))\n",
    "        for i in range(train_date - start_date):\n",
    "            protect_change_train.iloc[i] = [percent_change(country_protected.iloc[1 + i]['Value'], country_protected.iloc[0 + i]['Value'])]\n",
    "        percent_change_protected_train.append(protect_change_train)\n",
    "\n",
    "        protect_change_test = pd.DataFrame(dict({'Change Protected Percent': np.zeros(test_date - train_date - 1)}))\n",
    "        for i in range(test_date - train_date - 1):\n",
    "            protect_change_test.iloc[i] = [percent_change(country_protected.iloc[train_date - start_date + 2 + i]['Value'], country_protected.iloc[train_date - start_date + 1 + i]['Value'])]\n",
    "        percent_change_protected_test.append(protect_change_test)\n",
    "        \n",
    "    return percent_change_train, percent_change_test, percent_change_protected_train, percent_change_protected_test"
   ]
  },
  {
   "cell_type": "code",
   "execution_count": 117,
   "id": "901b3fd0",
   "metadata": {},
   "outputs": [
    {
     "name": "stderr",
     "output_type": "stream",
     "text": [
      "C:\\Users\\btiv\\AppData\\Local\\Temp/ipykernel_37148/2144858103.py:9: DtypeWarning: Columns (11,15,50,52) have mixed types. Specify dtype option on import or set low_memory=False.\n",
      "  country_df = pd.read_csv(f'{country}_biodiversity_research.csv')\n",
      "C:\\Users\\btiv\\AppData\\Local\\Temp/ipykernel_37148/2144858103.py:9: DtypeWarning: Columns (15,50) have mixed types. Specify dtype option on import or set low_memory=False.\n",
      "  country_df = pd.read_csv(f'{country}_biodiversity_research.csv')\n",
      "C:\\Users\\btiv\\AppData\\Local\\Temp/ipykernel_37148/2144858103.py:9: DtypeWarning: Columns (15) have mixed types. Specify dtype option on import or set low_memory=False.\n",
      "  country_df = pd.read_csv(f'{country}_biodiversity_research.csv')\n"
     ]
    }
   ],
   "source": [
    "X_train_list, X_test_list, y_train_list, y_test_list = compute_percent_change_features(countries, 2008, 2015, 2021)"
   ]
  },
  {
   "cell_type": "code",
   "execution_count": 114,
   "id": "0af1d0c5",
   "metadata": {},
   "outputs": [
    {
     "data": {
      "text/html": [
       "<div>\n",
       "<style scoped>\n",
       "    .dataframe tbody tr th:only-of-type {\n",
       "        vertical-align: middle;\n",
       "    }\n",
       "\n",
       "    .dataframe tbody tr th {\n",
       "        vertical-align: top;\n",
       "    }\n",
       "\n",
       "    .dataframe thead th {\n",
       "        text-align: right;\n",
       "    }\n",
       "</style>\n",
       "<table border=\"1\" class=\"dataframe\">\n",
       "  <thead>\n",
       "    <tr style=\"text-align: right;\">\n",
       "      <th></th>\n",
       "      <th>Change Volume</th>\n",
       "      <th>Change Citations</th>\n",
       "      <th>Change Authors</th>\n",
       "      <th>Change Orgs</th>\n",
       "    </tr>\n",
       "  </thead>\n",
       "  <tbody>\n",
       "    <tr>\n",
       "      <th>0</th>\n",
       "      <td>0.365385</td>\n",
       "      <td>-0.015368</td>\n",
       "      <td>0.201878</td>\n",
       "      <td>-0.012860</td>\n",
       "    </tr>\n",
       "    <tr>\n",
       "      <th>1</th>\n",
       "      <td>0.535211</td>\n",
       "      <td>3.042571</td>\n",
       "      <td>0.007597</td>\n",
       "      <td>0.092631</td>\n",
       "    </tr>\n",
       "    <tr>\n",
       "      <th>2</th>\n",
       "      <td>-0.045872</td>\n",
       "      <td>-0.522897</td>\n",
       "      <td>0.076308</td>\n",
       "      <td>-0.079573</td>\n",
       "    </tr>\n",
       "    <tr>\n",
       "      <th>3</th>\n",
       "      <td>0.163462</td>\n",
       "      <td>0.382460</td>\n",
       "      <td>-0.053136</td>\n",
       "      <td>0.010074</td>\n",
       "    </tr>\n",
       "    <tr>\n",
       "      <th>4</th>\n",
       "      <td>-0.066116</td>\n",
       "      <td>0.114562</td>\n",
       "      <td>0.105852</td>\n",
       "      <td>0.064146</td>\n",
       "    </tr>\n",
       "    <tr>\n",
       "      <th>5</th>\n",
       "      <td>0.141593</td>\n",
       "      <td>-0.216268</td>\n",
       "      <td>0.135983</td>\n",
       "      <td>0.018314</td>\n",
       "    </tr>\n",
       "    <tr>\n",
       "      <th>6</th>\n",
       "      <td>0.348837</td>\n",
       "      <td>0.650278</td>\n",
       "      <td>-0.141648</td>\n",
       "      <td>0.088154</td>\n",
       "    </tr>\n",
       "  </tbody>\n",
       "</table>\n",
       "</div>"
      ],
      "text/plain": [
       "   Change Volume  Change Citations  Change Authors  Change Orgs\n",
       "0       0.365385         -0.015368        0.201878    -0.012860\n",
       "1       0.535211          3.042571        0.007597     0.092631\n",
       "2      -0.045872         -0.522897        0.076308    -0.079573\n",
       "3       0.163462          0.382460       -0.053136     0.010074\n",
       "4      -0.066116          0.114562        0.105852     0.064146\n",
       "5       0.141593         -0.216268        0.135983     0.018314\n",
       "6       0.348837          0.650278       -0.141648     0.088154"
      ]
     },
     "execution_count": 114,
     "metadata": {},
     "output_type": "execute_result"
    }
   ],
   "source": [
    "X_train_list[0]"
   ]
  },
  {
   "cell_type": "code",
   "execution_count": 80,
   "id": "46a70f71",
   "metadata": {},
   "outputs": [],
   "source": [
    "def calc_MSE(y_pred, y_true):\n",
    "    return (1/len(y_pred))*sum(((np.array(y_pred)-np.array(y_true))**2))[0]"
   ]
  },
  {
   "cell_type": "code",
   "execution_count": 91,
   "id": "11358b2e",
   "metadata": {},
   "outputs": [
    {
     "data": {
      "text/plain": [
       "0.0002350805856206705"
      ]
     },
     "execution_count": 91,
     "metadata": {},
     "output_type": "execute_result"
    }
   ],
   "source": [
    "# build a simple Linear Regression Model for Country 0 (Australia)\n",
    "\n",
    "regr = LinearRegression()\n",
    "regr = regr.fit(X_train_list[1], y_train_list[1])\n",
    "\n",
    "# get MSE on the test set\n",
    "calc_MSE(regr.predict(X_test_list[1]), y_test_list[1])"
   ]
  },
  {
   "cell_type": "code",
   "execution_count": 93,
   "id": "95f2799c",
   "metadata": {},
   "outputs": [
    {
     "data": {
      "text/plain": [
       "array([[0.01557058],\n",
       "       [0.02493809],\n",
       "       [0.02422093],\n",
       "       [0.02609117],\n",
       "       [0.0279672 ]])"
      ]
     },
     "execution_count": 93,
     "metadata": {},
     "output_type": "execute_result"
    }
   ],
   "source": [
    "regr.predict(X_test_list[1])"
   ]
  },
  {
   "cell_type": "code",
   "execution_count": 94,
   "id": "d5dd7efe",
   "metadata": {},
   "outputs": [
    {
     "data": {
      "text/html": [
       "<div>\n",
       "<style scoped>\n",
       "    .dataframe tbody tr th:only-of-type {\n",
       "        vertical-align: middle;\n",
       "    }\n",
       "\n",
       "    .dataframe tbody tr th {\n",
       "        vertical-align: top;\n",
       "    }\n",
       "\n",
       "    .dataframe thead th {\n",
       "        text-align: right;\n",
       "    }\n",
       "</style>\n",
       "<table border=\"1\" class=\"dataframe\">\n",
       "  <thead>\n",
       "    <tr style=\"text-align: right;\">\n",
       "      <th></th>\n",
       "      <th>Change Protected Percent</th>\n",
       "    </tr>\n",
       "  </thead>\n",
       "  <tbody>\n",
       "    <tr>\n",
       "      <th>0</th>\n",
       "      <td>0.004889</td>\n",
       "    </tr>\n",
       "    <tr>\n",
       "      <th>1</th>\n",
       "      <td>0.041158</td>\n",
       "    </tr>\n",
       "    <tr>\n",
       "      <th>2</th>\n",
       "      <td>0.027800</td>\n",
       "    </tr>\n",
       "    <tr>\n",
       "      <th>3</th>\n",
       "      <td>0.027897</td>\n",
       "    </tr>\n",
       "    <tr>\n",
       "      <th>4</th>\n",
       "      <td>0.000000</td>\n",
       "    </tr>\n",
       "  </tbody>\n",
       "</table>\n",
       "</div>"
      ],
      "text/plain": [
       "   Change Protected Percent\n",
       "0                  0.004889\n",
       "1                  0.041158\n",
       "2                  0.027800\n",
       "3                  0.027897\n",
       "4                  0.000000"
      ]
     },
     "execution_count": 94,
     "metadata": {},
     "output_type": "execute_result"
    }
   ],
   "source": [
    "y_test_list[1]"
   ]
  },
  {
   "cell_type": "code",
   "execution_count": 95,
   "id": "0a1fed7a",
   "metadata": {},
   "outputs": [
    {
     "data": {
      "text/plain": [
       "array([ 0.01080126, -0.01417392,  0.09594324, -0.10475879])"
      ]
     },
     "execution_count": 95,
     "metadata": {},
     "output_type": "execute_result"
    }
   ],
   "source": [
    "regr.coef_[0]"
   ]
  },
  {
   "cell_type": "code",
   "execution_count": 92,
   "id": "4d5e0d0d",
   "metadata": {},
   "outputs": [
    {
     "name": "stdout",
     "output_type": "stream",
     "text": [
      "MSE of Degree 1 polynomial: 0.0002350805856206707\n",
      "MSE of Degree 2 polynomial: 0.0005891141585564678\n",
      "MSE of Degree 3 polynomial: 0.0006578988067246081\n",
      "MSE of Degree 4 polynomial: 0.0006553028384233133\n",
      "MSE of Degree 5 polynomial: 0.0006563629948500312\n",
      "MSE of Degree 6 polynomial: 0.0006551914489672175\n",
      "MSE of Degree 7 polynomial: 0.0006551471101835943\n",
      "MSE of Degree 8 polynomial: 0.0006550792187165464\n",
      "MSE of Degree 9 polynomial: 0.0006550814064453103\n",
      "MSE of Degree 10 polynomial: 0.0006550788118346283\n"
     ]
    }
   ],
   "source": [
    "from sklearn.preprocessing import PolynomialFeatures\n",
    "\n",
    "# choose polynomial order than minimizes MSE on test set\n",
    "degrees = list(range(1, 11))\n",
    "\n",
    "for degree in degrees:\n",
    "    # polynomial feature transform\n",
    "    poly = PolynomialFeatures(degree)\n",
    "    X_poly_train = poly.fit_transform(X_train_list[1])\n",
    "    X_poly_test = poly.transform(X_test_list[1])\n",
    "\n",
    "    # fit a model with the new polynomial features\n",
    "    poly_regr = LinearRegression()\n",
    "    poly_regr = poly_regr.fit(X_poly_train, y_train_list[1])\n",
    "\n",
    "    # get MSE on test set\n",
    "    print(f'MSE of Degree {degree} polynomial: {calc_MSE(poly_regr.predict(X_poly_test), y_test_list[1])}')"
   ]
  },
  {
   "cell_type": "code",
   "execution_count": 87,
   "id": "642879f2",
   "metadata": {},
   "outputs": [
    {
     "name": "stdout",
     "output_type": "stream",
     "text": [
      "Predictions:\n",
      " [[ 0.03921306]\n",
      " [ 0.06903876]\n",
      " [ 0.08466675]\n",
      " [ 0.03615381]\n",
      " [-0.20262732]]\n",
      "\n",
      "Actual Values:\n",
      " 0    0.013382\n",
      "1    0.005280\n",
      "2    0.000147\n",
      "3    0.049414\n",
      "4    0.000000\n",
      "Name: Change Protected Percent, dtype: float64\n"
     ]
    }
   ],
   "source": [
    "# train the optimal degree 3 polynomial\n",
    "poly = PolynomialFeatures(3)\n",
    "X_poly_train = poly.fit_transform(X_train_list[0])\n",
    "X_poly_test = poly.transform(X_test_list[0])\n",
    "\n",
    "# fit a model with the new polynomial features\n",
    "poly_regr = LinearRegression()\n",
    "poly_regr = poly_regr.fit(X_poly_train, y_train_list[0])\n",
    "\n",
    "print('Predictions:\\n', poly_regr.predict(X_poly_test))\n",
    "print('\\nActual Values:\\n', y_test_list[0]['Change Protected Percent'])"
   ]
  },
  {
   "cell_type": "code",
   "execution_count": null,
   "id": "2174572d",
   "metadata": {},
   "outputs": [],
   "source": [
    "# Next steps: Add latent variables to X_train data"
   ]
  }
 ],
 "metadata": {
  "kernelspec": {
   "display_name": "Python 3 (ipykernel)",
   "language": "python",
   "name": "python3"
  },
  "language_info": {
   "codemirror_mode": {
    "name": "ipython",
    "version": 3
   },
   "file_extension": ".py",
   "mimetype": "text/x-python",
   "name": "python",
   "nbconvert_exporter": "python",
   "pygments_lexer": "ipython3",
   "version": "3.9.7"
  }
 },
 "nbformat": 4,
 "nbformat_minor": 5
}
