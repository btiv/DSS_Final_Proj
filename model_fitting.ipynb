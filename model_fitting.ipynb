{
 "cells": [
  {
   "cell_type": "code",
   "execution_count": 3,
   "id": "20f7e088",
   "metadata": {},
   "outputs": [],
   "source": [
    "import pandas as pd\n",
    "import numpy as np\n",
    "from sklearn.linear_model import LinearRegression"
   ]
  },
  {
   "cell_type": "code",
   "execution_count": 107,
   "id": "3e72ec64",
   "metadata": {},
   "outputs": [],
   "source": [
    "# choose a list of 5 countries to start with abundant data\n",
    "countries = ['India', 'Canada', 'Spain', 'Norway', 'Brazil']"
   ]
  },
  {
   "cell_type": "code",
   "execution_count": 135,
   "id": "6c67d824",
   "metadata": {},
   "outputs": [],
   "source": [
    "def compute_percent_change_features(country_list, start_date, train_date, test_date):\n",
    "    def percent_change(new, original):\n",
    "        return (new - original) / original\n",
    "    \n",
    "    # store dataframes in lists\n",
    "    df_list = []\n",
    "\n",
    "    for country in countries:\n",
    "        country_df = pd.read_csv(f'{country}_biodiversity_research.csv')\n",
    "        country_df = country_df[country_df['Country Specific Authors'] > 0]\n",
    "        country_df = country_df.reset_index(drop=True)\n",
    "\n",
    "        # get papers from 1998 and onwards\n",
    "        country_df = country_df[country_df['Publication Year'] >= 1998]\n",
    "        country_df = country_df.reset_index(drop=True)\n",
    "        df_list.append(country_df)\n",
    "\n",
    "    country_train = []\n",
    "    country_test = []\n",
    "\n",
    "    for country_data in df_list:\n",
    "        train_data = pd.DataFrame(dict({'Year': np.zeros(train_date - 1998 + 1), 'Paper Volume': np.zeros(train_date - 1998 + 1), 'Mean Adj. Citations': np.zeros(train_date - 1998 + 1), 'Mean Authors': np.zeros(train_date - 1998 + 1), 'Mean Orgs': np.zeros(train_date - 1998 + 1)}))\n",
    "        test_data = pd.DataFrame(dict({'Year': np.zeros(test_date - train_date + 1), 'Paper Volume': np.zeros(test_date - train_date + 1), 'Mean Adj. Citations': np.zeros(test_date - train_date + 1), 'Mean Authors': np.zeros(test_date - train_date + 1), 'Mean Orgs': np.zeros(test_date - train_date + 1)}))\n",
    "        for date in range(1998, test_date + 1):\n",
    "            year_data = country_data[country_data['Publication Year'] == date]\n",
    "            year_data = year_data.reset_index(drop=True)\n",
    "\n",
    "            if date < train_date:\n",
    "                train_data.iloc[date - 1998] = [date, len(year_data), year_data['Adjusted Citations'].mean(), year_data['Country Specific Authors'].mean(), year_data['Country Specific Orgs'].mean()]\n",
    "            elif date == train_date:\n",
    "                train_data.iloc[date - 1998] = [date, len(year_data), year_data['Adjusted Citations'].mean(), year_data['Country Specific Authors'].mean(), year_data['Country Specific Orgs'].mean()]\n",
    "                test_data.iloc[date - train_date] = [date, len(year_data), year_data['Adjusted Citations'].mean(), year_data['Country Specific Authors'].mean(), year_data['Country Specific Orgs'].mean()]\n",
    "            else:\n",
    "                test_data.iloc[date - train_date] = [date, len(year_data), year_data['Adjusted Citations'].mean(), year_data['Country Specific Authors'].mean(), year_data['Country Specific Orgs'].mean()]\n",
    "\n",
    "        country_train.append(train_data)\n",
    "        country_test.append(test_data)\n",
    "    \n",
    "    protected_df = pd.read_csv('protected_land_cleaned.csv')\n",
    "    \n",
    "    # now compute the percent changes starting from start_date (i.e. can start analysis in start_date + 1)\n",
    "    \n",
    "    percent_change_train = []\n",
    "    percent_change_test = []\n",
    "    percent_change_protected_test = []\n",
    "    percent_change_protected_train = []\n",
    "\n",
    "    for train_df in country_train:\n",
    "        percent_train = pd.DataFrame(dict({'Change Volume': np.zeros(train_date - start_date), 'Change Citations': np.zeros(train_date - start_date), 'Change Authors': np.zeros(train_date - start_date), 'Change Orgs': np.zeros(train_date - start_date)}))\n",
    "        for i in range(train_date - start_date):\n",
    "            percent_train.iloc[i] = [percent_change(train_df.iloc[start_date - 1998 + 1 + i]['Paper Volume'], train_df.iloc[start_date - 1998 + i]['Paper Volume']), percent_change(train_df.iloc[start_date - 1998 + 1 + i]['Mean Adj. Citations'], train_df.iloc[start_date - 1998 + i]['Mean Adj. Citations']), percent_change(train_df.iloc[start_date - 1998 + 1 + i]['Mean Authors'], train_df.iloc[start_date - 1998 + i]['Mean Authors']), percent_change(train_df.iloc[start_date - 1998 + 1 + i]['Mean Orgs'], train_df.iloc[start_date - 1998 + i]['Mean Orgs'])]\n",
    "        percent_change_train.append(percent_train)\n",
    "\n",
    "    for test_df in country_test:    \n",
    "        percent_test = pd.DataFrame(dict({'Change Volume': np.zeros(test_date - train_date), 'Change Citations': np.zeros(test_date - train_date), 'Change Authors': np.zeros(test_date - train_date), 'Change Orgs': np.zeros(test_date - train_date)}))\n",
    "        for i in range(test_date - train_date):\n",
    "            percent_test.iloc[i] = [percent_change(test_df.iloc[1 + i]['Paper Volume'], test_df.iloc[i]['Paper Volume']), percent_change(test_df.iloc[1 + i]['Mean Adj. Citations'], test_df.iloc[i]['Mean Adj. Citations']), percent_change(test_df.iloc[1 + i]['Mean Authors'], test_df.iloc[i]['Mean Authors']), percent_change(test_df.iloc[1 + i]['Mean Orgs'], test_df.iloc[i]['Mean Orgs'])]\n",
    "        percent_change_test.append(percent_test)\n",
    "\n",
    "    for country in countries:\n",
    "        country_protected = protected_df[protected_df['Country'] == country]\n",
    "        country_protected = country_protected[country_protected['Year'] >= start_date]\n",
    "        country_protected = country_protected[country_protected['Year'] <= test_date]\n",
    "        country_protected = country_protected.reset_index(drop=True)\n",
    "\n",
    "        protect_change_train = pd.DataFrame(dict({'Change Protected Percent': np.zeros(train_date - start_date)}))\n",
    "        for i in range(train_date - start_date):\n",
    "            protect_change_train.iloc[i] = [percent_change(country_protected.iloc[1 + i]['Value'], country_protected.iloc[0 + i]['Value'])]\n",
    "        percent_change_protected_train.append(protect_change_train)\n",
    "\n",
    "        protect_change_test = pd.DataFrame(dict({'Change Protected Percent': np.zeros(test_date - train_date)}))\n",
    "        for i in range(test_date - train_date):\n",
    "            protect_change_test.iloc[i] = [percent_change(country_protected.iloc[train_date - start_date + 1 + i]['Value'], country_protected.iloc[train_date - start_date + i]['Value'])]\n",
    "        percent_change_protected_test.append(protect_change_test)\n",
    "        \n",
    "    return percent_change_train, percent_change_test, percent_change_protected_train, percent_change_protected_test"
   ]
  },
  {
   "cell_type": "code",
   "execution_count": 136,
   "id": "19f39cac",
   "metadata": {},
   "outputs": [
    {
     "name": "stderr",
     "output_type": "stream",
     "text": [
      "C:\\Users\\btiv\\AppData\\Local\\Temp/ipykernel_37148/3154277437.py:9: DtypeWarning: Columns (11,15,50,52) have mixed types. Specify dtype option on import or set low_memory=False.\n",
      "  country_df = pd.read_csv(f'{country}_biodiversity_research.csv')\n",
      "C:\\Users\\btiv\\AppData\\Local\\Temp/ipykernel_37148/3154277437.py:9: DtypeWarning: Columns (15,50) have mixed types. Specify dtype option on import or set low_memory=False.\n",
      "  country_df = pd.read_csv(f'{country}_biodiversity_research.csv')\n",
      "C:\\Users\\btiv\\AppData\\Local\\Temp/ipykernel_37148/3154277437.py:9: DtypeWarning: Columns (15) have mixed types. Specify dtype option on import or set low_memory=False.\n",
      "  country_df = pd.read_csv(f'{country}_biodiversity_research.csv')\n"
     ]
    }
   ],
   "source": [
    "X_train_list, X_test_list, y_train_list, y_test_list = compute_percent_change_features(countries, 2008, 2015, 2021)"
   ]
  },
  {
   "cell_type": "code",
   "execution_count": 131,
   "id": "ea124a38",
   "metadata": {},
   "outputs": [
    {
     "data": {
      "text/html": [
       "<div>\n",
       "<style scoped>\n",
       "    .dataframe tbody tr th:only-of-type {\n",
       "        vertical-align: middle;\n",
       "    }\n",
       "\n",
       "    .dataframe tbody tr th {\n",
       "        vertical-align: top;\n",
       "    }\n",
       "\n",
       "    .dataframe thead th {\n",
       "        text-align: right;\n",
       "    }\n",
       "</style>\n",
       "<table border=\"1\" class=\"dataframe\">\n",
       "  <thead>\n",
       "    <tr style=\"text-align: right;\">\n",
       "      <th></th>\n",
       "      <th>Change Volume</th>\n",
       "      <th>Change Citations</th>\n",
       "      <th>Change Authors</th>\n",
       "      <th>Change Orgs</th>\n",
       "    </tr>\n",
       "  </thead>\n",
       "  <tbody>\n",
       "    <tr>\n",
       "      <th>0</th>\n",
       "      <td>0.392308</td>\n",
       "      <td>-0.138333</td>\n",
       "      <td>0.016501</td>\n",
       "      <td>-0.015600</td>\n",
       "    </tr>\n",
       "    <tr>\n",
       "      <th>1</th>\n",
       "      <td>0.082873</td>\n",
       "      <td>0.387290</td>\n",
       "      <td>-0.093873</td>\n",
       "      <td>-0.044824</td>\n",
       "    </tr>\n",
       "    <tr>\n",
       "      <th>2</th>\n",
       "      <td>0.346939</td>\n",
       "      <td>-0.008594</td>\n",
       "      <td>0.026606</td>\n",
       "      <td>0.059726</td>\n",
       "    </tr>\n",
       "    <tr>\n",
       "      <th>3</th>\n",
       "      <td>-0.015152</td>\n",
       "      <td>0.438365</td>\n",
       "      <td>0.119031</td>\n",
       "      <td>0.092129</td>\n",
       "    </tr>\n",
       "    <tr>\n",
       "      <th>4</th>\n",
       "      <td>0.250000</td>\n",
       "      <td>-0.331104</td>\n",
       "      <td>0.053689</td>\n",
       "      <td>-0.029189</td>\n",
       "    </tr>\n",
       "    <tr>\n",
       "      <th>5</th>\n",
       "      <td>0.067692</td>\n",
       "      <td>-0.145339</td>\n",
       "      <td>0.030371</td>\n",
       "      <td>0.061757</td>\n",
       "    </tr>\n",
       "    <tr>\n",
       "      <th>6</th>\n",
       "      <td>0.126801</td>\n",
       "      <td>0.093434</td>\n",
       "      <td>0.094191</td>\n",
       "      <td>-0.014893</td>\n",
       "    </tr>\n",
       "  </tbody>\n",
       "</table>\n",
       "</div>"
      ],
      "text/plain": [
       "   Change Volume  Change Citations  Change Authors  Change Orgs\n",
       "0       0.392308         -0.138333        0.016501    -0.015600\n",
       "1       0.082873          0.387290       -0.093873    -0.044824\n",
       "2       0.346939         -0.008594        0.026606     0.059726\n",
       "3      -0.015152          0.438365        0.119031     0.092129\n",
       "4       0.250000         -0.331104        0.053689    -0.029189\n",
       "5       0.067692         -0.145339        0.030371     0.061757\n",
       "6       0.126801          0.093434        0.094191    -0.014893"
      ]
     },
     "execution_count": 131,
     "metadata": {},
     "output_type": "execute_result"
    }
   ],
   "source": [
    "X_train_list[1]"
   ]
  },
  {
   "cell_type": "code",
   "execution_count": 132,
   "id": "d3927949",
   "metadata": {},
   "outputs": [
    {
     "data": {
      "text/html": [
       "<div>\n",
       "<style scoped>\n",
       "    .dataframe tbody tr th:only-of-type {\n",
       "        vertical-align: middle;\n",
       "    }\n",
       "\n",
       "    .dataframe tbody tr th {\n",
       "        vertical-align: top;\n",
       "    }\n",
       "\n",
       "    .dataframe thead th {\n",
       "        text-align: right;\n",
       "    }\n",
       "</style>\n",
       "<table border=\"1\" class=\"dataframe\">\n",
       "  <thead>\n",
       "    <tr style=\"text-align: right;\">\n",
       "      <th></th>\n",
       "      <th>Change Volume</th>\n",
       "      <th>Change Citations</th>\n",
       "      <th>Change Authors</th>\n",
       "      <th>Change Orgs</th>\n",
       "    </tr>\n",
       "  </thead>\n",
       "  <tbody>\n",
       "    <tr>\n",
       "      <th>0</th>\n",
       "      <td>0.112532</td>\n",
       "      <td>-0.194991</td>\n",
       "      <td>-0.139852</td>\n",
       "      <td>-0.018423</td>\n",
       "    </tr>\n",
       "    <tr>\n",
       "      <th>1</th>\n",
       "      <td>0.186207</td>\n",
       "      <td>0.068089</td>\n",
       "      <td>0.051263</td>\n",
       "      <td>0.072566</td>\n",
       "    </tr>\n",
       "    <tr>\n",
       "      <th>2</th>\n",
       "      <td>-0.023256</td>\n",
       "      <td>-0.266610</td>\n",
       "      <td>0.044165</td>\n",
       "      <td>0.000334</td>\n",
       "    </tr>\n",
       "    <tr>\n",
       "      <th>3</th>\n",
       "      <td>0.192460</td>\n",
       "      <td>-0.258646</td>\n",
       "      <td>0.019644</td>\n",
       "      <td>0.005885</td>\n",
       "    </tr>\n",
       "    <tr>\n",
       "      <th>4</th>\n",
       "      <td>0.086522</td>\n",
       "      <td>-0.314850</td>\n",
       "      <td>0.022570</td>\n",
       "      <td>-0.012606</td>\n",
       "    </tr>\n",
       "    <tr>\n",
       "      <th>5</th>\n",
       "      <td>0.075038</td>\n",
       "      <td>-0.629893</td>\n",
       "      <td>0.207121</td>\n",
       "      <td>0.179949</td>\n",
       "    </tr>\n",
       "  </tbody>\n",
       "</table>\n",
       "</div>"
      ],
      "text/plain": [
       "   Change Volume  Change Citations  Change Authors  Change Orgs\n",
       "0       0.112532         -0.194991       -0.139852    -0.018423\n",
       "1       0.186207          0.068089        0.051263     0.072566\n",
       "2      -0.023256         -0.266610        0.044165     0.000334\n",
       "3       0.192460         -0.258646        0.019644     0.005885\n",
       "4       0.086522         -0.314850        0.022570    -0.012606\n",
       "5       0.075038         -0.629893        0.207121     0.179949"
      ]
     },
     "execution_count": 132,
     "metadata": {},
     "output_type": "execute_result"
    }
   ],
   "source": [
    "X_test_list[1]"
   ]
  },
  {
   "cell_type": "code",
   "execution_count": null,
   "id": "b08347c2",
   "metadata": {},
   "outputs": [],
   "source": [
    "protected_df[protected_df['Country'] == India]"
   ]
  },
  {
   "cell_type": "code",
   "execution_count": 80,
   "id": "02c428f9",
   "metadata": {},
   "outputs": [],
   "source": [
    "def calc_MSE(y_pred, y_true):\n",
    "    return (1/len(y_pred))*sum(((np.array(y_pred)-np.array(y_true))**2))[0]"
   ]
  },
  {
   "cell_type": "code",
   "execution_count": 91,
   "id": "a31a5d48",
   "metadata": {},
   "outputs": [
    {
     "data": {
      "text/plain": [
       "0.0002350805856206705"
      ]
     },
     "execution_count": 91,
     "metadata": {},
     "output_type": "execute_result"
    }
   ],
   "source": [
    "# build a simple Linear Regression Model for Country 0 (Australia)\n",
    "\n",
    "regr = LinearRegression()\n",
    "regr = regr.fit(X_train_list[1], y_train_list[1])\n",
    "\n",
    "# get MSE on the test set\n",
    "calc_MSE(regr.predict(X_test_list[1]), y_test_list[1])"
   ]
  },
  {
   "cell_type": "code",
   "execution_count": 93,
   "id": "7dae264e",
   "metadata": {},
   "outputs": [
    {
     "data": {
      "text/plain": [
       "array([[0.01557058],\n",
       "       [0.02493809],\n",
       "       [0.02422093],\n",
       "       [0.02609117],\n",
       "       [0.0279672 ]])"
      ]
     },
     "execution_count": 93,
     "metadata": {},
     "output_type": "execute_result"
    }
   ],
   "source": [
    "regr.predict(X_test_list[1])"
   ]
  },
  {
   "cell_type": "code",
   "execution_count": 94,
   "id": "b93ef4f5",
   "metadata": {},
   "outputs": [
    {
     "data": {
      "text/html": [
       "<div>\n",
       "<style scoped>\n",
       "    .dataframe tbody tr th:only-of-type {\n",
       "        vertical-align: middle;\n",
       "    }\n",
       "\n",
       "    .dataframe tbody tr th {\n",
       "        vertical-align: top;\n",
       "    }\n",
       "\n",
       "    .dataframe thead th {\n",
       "        text-align: right;\n",
       "    }\n",
       "</style>\n",
       "<table border=\"1\" class=\"dataframe\">\n",
       "  <thead>\n",
       "    <tr style=\"text-align: right;\">\n",
       "      <th></th>\n",
       "      <th>Change Protected Percent</th>\n",
       "    </tr>\n",
       "  </thead>\n",
       "  <tbody>\n",
       "    <tr>\n",
       "      <th>0</th>\n",
       "      <td>0.004889</td>\n",
       "    </tr>\n",
       "    <tr>\n",
       "      <th>1</th>\n",
       "      <td>0.041158</td>\n",
       "    </tr>\n",
       "    <tr>\n",
       "      <th>2</th>\n",
       "      <td>0.027800</td>\n",
       "    </tr>\n",
       "    <tr>\n",
       "      <th>3</th>\n",
       "      <td>0.027897</td>\n",
       "    </tr>\n",
       "    <tr>\n",
       "      <th>4</th>\n",
       "      <td>0.000000</td>\n",
       "    </tr>\n",
       "  </tbody>\n",
       "</table>\n",
       "</div>"
      ],
      "text/plain": [
       "   Change Protected Percent\n",
       "0                  0.004889\n",
       "1                  0.041158\n",
       "2                  0.027800\n",
       "3                  0.027897\n",
       "4                  0.000000"
      ]
     },
     "execution_count": 94,
     "metadata": {},
     "output_type": "execute_result"
    }
   ],
   "source": [
    "y_test_list[1]"
   ]
  },
  {
   "cell_type": "code",
   "execution_count": 95,
   "id": "bfd30a58",
   "metadata": {},
   "outputs": [
    {
     "data": {
      "text/plain": [
       "array([ 0.01080126, -0.01417392,  0.09594324, -0.10475879])"
      ]
     },
     "execution_count": 95,
     "metadata": {},
     "output_type": "execute_result"
    }
   ],
   "source": [
    "regr.coef_[0]"
   ]
  },
  {
   "cell_type": "code",
   "execution_count": 92,
   "id": "11a73108",
   "metadata": {},
   "outputs": [
    {
     "name": "stdout",
     "output_type": "stream",
     "text": [
      "MSE of Degree 1 polynomial: 0.0002350805856206707\n",
      "MSE of Degree 2 polynomial: 0.0005891141585564678\n",
      "MSE of Degree 3 polynomial: 0.0006578988067246081\n",
      "MSE of Degree 4 polynomial: 0.0006553028384233133\n",
      "MSE of Degree 5 polynomial: 0.0006563629948500312\n",
      "MSE of Degree 6 polynomial: 0.0006551914489672175\n",
      "MSE of Degree 7 polynomial: 0.0006551471101835943\n",
      "MSE of Degree 8 polynomial: 0.0006550792187165464\n",
      "MSE of Degree 9 polynomial: 0.0006550814064453103\n",
      "MSE of Degree 10 polynomial: 0.0006550788118346283\n"
     ]
    }
   ],
   "source": [
    "from sklearn.preprocessing import PolynomialFeatures\n",
    "\n",
    "# choose polynomial order than minimizes MSE on test set\n",
    "degrees = list(range(1, 11))\n",
    "\n",
    "for degree in degrees:\n",
    "    # polynomial feature transform\n",
    "    poly = PolynomialFeatures(degree)\n",
    "    X_poly_train = poly.fit_transform(X_train_list[1])\n",
    "    X_poly_test = poly.transform(X_test_list[1])\n",
    "\n",
    "    # fit a model with the new polynomial features\n",
    "    poly_regr = LinearRegression()\n",
    "    poly_regr = poly_regr.fit(X_poly_train, y_train_list[1])\n",
    "\n",
    "    # get MSE on test set\n",
    "    print(f'MSE of Degree {degree} polynomial: {calc_MSE(poly_regr.predict(X_poly_test), y_test_list[1])}')"
   ]
  },
  {
   "cell_type": "code",
   "execution_count": 87,
   "id": "91c4f4be",
   "metadata": {},
   "outputs": [
    {
     "name": "stdout",
     "output_type": "stream",
     "text": [
      "Predictions:\n",
      " [[ 0.03921306]\n",
      " [ 0.06903876]\n",
      " [ 0.08466675]\n",
      " [ 0.03615381]\n",
      " [-0.20262732]]\n",
      "\n",
      "Actual Values:\n",
      " 0    0.013382\n",
      "1    0.005280\n",
      "2    0.000147\n",
      "3    0.049414\n",
      "4    0.000000\n",
      "Name: Change Protected Percent, dtype: float64\n"
     ]
    }
   ],
   "source": [
    "# train the optimal degree 3 polynomial\n",
    "poly = PolynomialFeatures(3)\n",
    "X_poly_train = poly.fit_transform(X_train_list[0])\n",
    "X_poly_test = poly.transform(X_test_list[0])\n",
    "\n",
    "# fit a model with the new polynomial features\n",
    "poly_regr = LinearRegression()\n",
    "poly_regr = poly_regr.fit(X_poly_train, y_train_list[0])\n",
    "\n",
    "print('Predictions:\\n', poly_regr.predict(X_poly_test))\n",
    "print('\\nActual Values:\\n', y_test_list[0]['Change Protected Percent'])"
   ]
  },
  {
   "cell_type": "code",
   "execution_count": null,
   "id": "35500c5c",
   "metadata": {},
   "outputs": [],
   "source": [
    "# Next steps: Add latent variables to X_train data"
   ]
  }
 ],
 "metadata": {
  "kernelspec": {
   "display_name": "Python 3 (ipykernel)",
   "language": "python",
   "name": "python3"
  },
  "language_info": {
   "codemirror_mode": {
    "name": "ipython",
    "version": 3
   },
   "file_extension": ".py",
   "mimetype": "text/x-python",
   "name": "python",
   "nbconvert_exporter": "python",
   "pygments_lexer": "ipython3",
   "version": "3.9.7"
  }
 },
 "nbformat": 4,
 "nbformat_minor": 5
}
