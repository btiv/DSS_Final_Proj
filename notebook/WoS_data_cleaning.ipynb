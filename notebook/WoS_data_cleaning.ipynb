{
 "cells": [
  {
   "cell_type": "code",
   "execution_count": 59,
   "id": "3da25b11",
   "metadata": {},
   "outputs": [],
   "source": [
    "import pandas as pd\n",
    "import numpy as np\n",
    "import matplotlib.pyplot as plt"
   ]
  },
  {
   "cell_type": "code",
   "execution_count": 60,
   "id": "f2028cd5",
   "metadata": {},
   "outputs": [],
   "source": [
    "# get the new WoS data that was found using keywords \"brazilian amazon\"\n",
    "deforestation_df = pd.read_excel('data/Amazon_research/raw_data/savedrecs.xls')"
   ]
  },
  {
   "cell_type": "code",
   "execution_count": 61,
   "id": "3fc7e390",
   "metadata": {},
   "outputs": [],
   "source": [
    "for i in range(1, 12):\n",
    "    temp_df = pd.read_excel(f'data/Amazon_research/raw_data/savedrecs ({i}).xls')\n",
    "    deforestation_df = pd.concat([deforestation_df, temp_df])"
   ]
  },
  {
   "cell_type": "code",
   "execution_count": 43,
   "id": "1a3a2ae0",
   "metadata": {},
   "outputs": [],
   "source": [
    "deforestation_df = deforestation_df.reset_index(drop=True)"
   ]
  },
  {
   "cell_type": "code",
   "execution_count": 44,
   "id": "7d961f01",
   "metadata": {},
   "outputs": [
    {
     "data": {
      "text/plain": [
       "11867"
      ]
     },
     "execution_count": 44,
     "metadata": {},
     "output_type": "execute_result"
    }
   ],
   "source": [
    "len(deforestation_df)"
   ]
  },
  {
   "cell_type": "code",
   "execution_count": 45,
   "id": "97360be5",
   "metadata": {},
   "outputs": [
    {
     "data": {
      "text/plain": [
       "nan"
      ]
     },
     "execution_count": 45,
     "metadata": {},
     "output_type": "execute_result"
    }
   ],
   "source": [
    "deforestation_df.iloc[2]['Addresses']"
   ]
  },
  {
   "cell_type": "code",
   "execution_count": 46,
   "id": "c3ebf44b",
   "metadata": {},
   "outputs": [
    {
     "data": {
      "text/plain": [
       "'Potential land availability for agricultural expansion in the Brazilian Amazon'"
      ]
     },
     "execution_count": 46,
     "metadata": {},
     "output_type": "execute_result"
    }
   ],
   "source": [
    "deforestation_df.iloc[5]['Article Title']"
   ]
  },
  {
   "cell_type": "code",
   "execution_count": 47,
   "id": "28a07f27",
   "metadata": {},
   "outputs": [
    {
     "data": {
      "text/plain": [
       "Index(['Publication Type', 'Authors', 'Book Authors', 'Book Editors',\n",
       "       'Book Group Authors', 'Author Full Names', 'Book Author Full Names',\n",
       "       'Group Authors', 'Article Title', 'Source Title', 'Book Series Title',\n",
       "       'Book Series Subtitle', 'Language', 'Document Type', 'Conference Title',\n",
       "       'Conference Date', 'Conference Location', 'Conference Sponsor',\n",
       "       'Conference Host', 'Author Keywords', 'Keywords Plus', 'Abstract',\n",
       "       'Addresses', 'Affiliations', 'Reprint Addresses', 'Email Addresses',\n",
       "       'Researcher Ids', 'ORCIDs', 'Funding Orgs', 'Funding Text',\n",
       "       'Cited References', 'Cited Reference Count', 'Times Cited, WoS Core',\n",
       "       'Times Cited, All Databases', '180 Day Usage Count',\n",
       "       'Since 2013 Usage Count', 'Publisher', 'Publisher City',\n",
       "       'Publisher Address', 'ISSN', 'eISSN', 'ISBN', 'Journal Abbreviation',\n",
       "       'Journal ISO Abbreviation', 'Publication Date', 'Publication Year',\n",
       "       'Volume', 'Issue', 'Part Number', 'Supplement', 'Special Issue',\n",
       "       'Meeting Abstract', 'Start Page', 'End Page', 'Article Number', 'DOI',\n",
       "       'Book DOI', 'Early Access Date', 'Number of Pages', 'WoS Categories',\n",
       "       'Web of Science Index', 'Research Areas', 'IDS Number',\n",
       "       'UT (Unique WOS ID)', 'Pubmed Id', 'Open Access Designations',\n",
       "       'Highly Cited Status', 'Hot Paper Status', 'Date of Export',\n",
       "       'Unnamed: 69'],\n",
       "      dtype='object')"
      ]
     },
     "execution_count": 47,
     "metadata": {},
     "output_type": "execute_result"
    }
   ],
   "source": [
    "deforestation_df.columns"
   ]
  },
  {
   "cell_type": "code",
   "execution_count": 48,
   "id": "44a7fb8d",
   "metadata": {},
   "outputs": [],
   "source": [
    "deforestation_df = deforestation_df.drop(columns=['Unnamed: 69', 'Hot Paper Status', 'Date of Export', 'Pubmed Id', 'Highly Cited Status', 'Special Issue'])"
   ]
  },
  {
   "cell_type": "code",
   "execution_count": 49,
   "id": "b1659b97",
   "metadata": {},
   "outputs": [],
   "source": [
    "# drop rows without a addresses, publication year and, citations\n",
    "deforestation_df = deforestation_df.dropna(subset=['Addresses', 'Publication Year', 'Times Cited, All Databases'])"
   ]
  },
  {
   "cell_type": "code",
   "execution_count": 50,
   "id": "852e3ec8",
   "metadata": {},
   "outputs": [
    {
     "data": {
      "text/plain": [
       "11453"
      ]
     },
     "execution_count": 50,
     "metadata": {},
     "output_type": "execute_result"
    }
   ],
   "source": [
    "len(deforestation_df)"
   ]
  },
  {
   "cell_type": "code",
   "execution_count": 51,
   "id": "f83896b3",
   "metadata": {},
   "outputs": [],
   "source": [
    "deforestation_df.to_csv('data/Amazon_research/cleaned_data/Brazil_focused_research.csv')"
   ]
  },
  {
   "cell_type": "code",
   "execution_count": 52,
   "id": "5ef06cd0",
   "metadata": {},
   "outputs": [
    {
     "name": "stderr",
     "output_type": "stream",
     "text": [
      "C:\\Users\\btiv\\AppData\\Local\\Temp/ipykernel_496/2376986872.py:11: DtypeWarning: Columns (12) have mixed types. Specify dtype option on import or set low_memory=False.\n",
      "  deforestation_df = pd.read_csv('Brazil_focused_research.csv')\n",
      "C:\\Users\\btiv\\AppData\\Local\\Temp/ipykernel_496/2376986872.py:13: UserWarning: This pattern is interpreted as a regular expression, and has match groups. To actually get the groups, use str.extract.\n",
      "  domestic_brazil_df = deforestation_df[deforestation_df['Addresses'].str.contains('|'.join(country_names_no_brazil), case=False) == False]\n",
      "C:\\Users\\btiv\\AppData\\Local\\Temp/ipykernel_496/2376986872.py:20: UserWarning: This pattern is interpreted as a regular expression, and has match groups. To actually get the groups, use str.extract.\n",
      "  international_brazil_df = international_brazil_df[international_brazil_df['Addresses'].str.contains('|'.join(country_names_no_brazil), case=False) == True]\n"
     ]
    }
   ],
   "source": [
    "# reasearch location assignment\n",
    "country_name_df = pd.read_csv('country_names.csv')\n",
    "country_names = np.array(country_name_df['name'].unique())\n",
    "country_names = np.append(country_names, ['USA', 'England', 'Ireland', 'Korea', 'Moldova', 'Micronesia', \n",
    "                                          'Saint Martin', 'Sint Maarten', 'Tanzania', 'United Kingdom', 'UK',\n",
    "                                         'United States', 'Virgin Islands'])\n",
    "\n",
    "country_brazil = np.array(['Brazil'])\n",
    "country_names_no_brazil = np.setdiff1d(country_names, country_brazil)\n",
    "\n",
    "deforestation_df = pd.read_csv('Brazil_focused_research.csv')\n",
    "\n",
    "domestic_brazil_df = deforestation_df[deforestation_df['Addresses'].str.contains('|'.join(country_names_no_brazil), case=False) == False]\n",
    "domestic_brazil_df = domestic_brazil_df[domestic_brazil_df['Addresses'].str.contains('Brazil', case=False) == True]\n",
    "domestic_brazil_df = domestic_brazil_df.reset_index(drop=True)\n",
    "\n",
    "international_brazil_df = deforestation_df[deforestation_df['Addresses'].str.contains('Brazil', case=False) == False]\n",
    "\n",
    "# sure that addresses at least contain some country\n",
    "international_brazil_df = international_brazil_df[international_brazil_df['Addresses'].str.contains('|'.join(country_names_no_brazil), case=False) == True]\n",
    "international_brazil_df = international_brazil_df.reset_index(drop=True)"
   ]
  },
  {
   "cell_type": "code",
   "execution_count": 53,
   "id": "d1a219f5",
   "metadata": {},
   "outputs": [
    {
     "data": {
      "text/plain": [
       "5218"
      ]
     },
     "execution_count": 53,
     "metadata": {},
     "output_type": "execute_result"
    }
   ],
   "source": [
    "len(domestic_brazil_df)"
   ]
  },
  {
   "cell_type": "code",
   "execution_count": 54,
   "id": "aaf706a5",
   "metadata": {},
   "outputs": [
    {
     "name": "stderr",
     "output_type": "stream",
     "text": [
      "C:\\Users\\btiv\\AppData\\Local\\Temp/ipykernel_496/1191118949.py:4: UserWarning: This pattern is interpreted as a regular expression, and has match groups. To actually get the groups, use str.extract.\n",
      "  collaboration_brazil_df = collaboration_brazil_df[collaboration_brazil_df['Addresses'].str.contains('|'.join(country_names), case=False) == True]\n"
     ]
    }
   ],
   "source": [
    "collaboration_brazil_df = pd.concat([deforestation_df, domestic_brazil_df, international_brazil_df]).drop_duplicates(keep=False)\n",
    "\n",
    "# make sure that addresses at least contain some country\n",
    "collaboration_brazil_df = collaboration_brazil_df[collaboration_brazil_df['Addresses'].str.contains('|'.join(country_names), case=False) == True]\n",
    "collaboration_brazil_df = collaboration_brazil_df.reset_index(drop=True)"
   ]
  },
  {
   "cell_type": "code",
   "execution_count": 55,
   "id": "817cbb79",
   "metadata": {},
   "outputs": [
    {
     "data": {
      "text/plain": [
       "1970.0"
      ]
     },
     "execution_count": 55,
     "metadata": {},
     "output_type": "execute_result"
    }
   ],
   "source": [
    "international_brazil_df['Publication Year'].min()"
   ]
  },
  {
   "cell_type": "code",
   "execution_count": 62,
   "id": "9015feed",
   "metadata": {},
   "outputs": [
    {
     "data": {
      "text/plain": [
       "'Fiocruz MS, Inst Oswaldo Cruz, Dept Virol, BR-21045900 Rio De Janeiro, Brazil; Cent Publ Hlth Lab, Manaus, Amazonas, Brazil'"
      ]
     },
     "execution_count": 62,
     "metadata": {},
     "output_type": "execute_result"
    }
   ],
   "source": [
    "domestic_brazil_df['Addresses'][1]"
   ]
  },
  {
   "cell_type": "code",
   "execution_count": 57,
   "id": "6d214683",
   "metadata": {},
   "outputs": [
    {
     "data": {
      "text/plain": [
       "11384"
      ]
     },
     "execution_count": 57,
     "metadata": {},
     "output_type": "execute_result"
    }
   ],
   "source": [
    "len(domestic_brazil_df) + len(international_brazil_df) + len(collaboration_brazil_df)"
   ]
  },
  {
   "cell_type": "code",
   "execution_count": 58,
   "id": "c0a77e5d",
   "metadata": {},
   "outputs": [],
   "source": [
    "domestic_brazil_df.to_csv('data/Amazon_research/cleaned_data/domestic_brazil_research.csv')\n",
    "international_brazil_df.to_csv('data/Amazon_research/cleaned_data/international_brazil_research.csv')\n",
    "collaboration_brazil_df.to_csv('data/Amazon_research/cleaned_data/collaboration_brazil_research.csv')"
   ]
  },
  {
   "cell_type": "code",
   "execution_count": null,
   "id": "aa273aaa",
   "metadata": {},
   "outputs": [],
   "source": []
  }
 ],
 "metadata": {
  "kernelspec": {
   "display_name": "Python 3 (ipykernel)",
   "language": "python",
   "name": "python3"
  },
  "language_info": {
   "codemirror_mode": {
    "name": "ipython",
    "version": 3
   },
   "file_extension": ".py",
   "mimetype": "text/x-python",
   "name": "python",
   "nbconvert_exporter": "python",
   "pygments_lexer": "ipython3",
   "version": "3.9.7"
  }
 },
 "nbformat": 4,
 "nbformat_minor": 5
}
