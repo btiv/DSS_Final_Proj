{
 "cells": [
  {
   "cell_type": "code",
   "execution_count": 1,
   "id": "8d95f991",
   "metadata": {},
   "outputs": [],
   "source": [
    "import pandas as pd\n",
    "import numpy as np\n",
    "import matplotlib.pyplot as plt"
   ]
  },
  {
   "cell_type": "code",
   "execution_count": null,
   "id": "11da2653",
   "metadata": {},
   "outputs": [],
   "source": [
    "# clean up the protected land use file\n",
    "raw_protected_df = pd.read_csv('PROTECTED_AREAS.csv')\n",
    "raw_protected_df"
   ]
  },
  {
   "cell_type": "code",
   "execution_count": null,
   "id": "693ee343",
   "metadata": {},
   "outputs": [],
   "source": [
    "raw_protected_df = raw_protected_df.drop(columns=['Designation', 'Calculation method', 'PowerCode', 'Reference Period', 'Flags'])"
   ]
  },
  {
   "cell_type": "code",
   "execution_count": null,
   "id": "9d7e8dd9",
   "metadata": {},
   "outputs": [],
   "source": [
    "cleaned_df = raw_protected_df.drop(columns=['Scope'])"
   ]
  },
  {
   "cell_type": "code",
   "execution_count": null,
   "id": "9d89c48d",
   "metadata": {},
   "outputs": [],
   "source": [
    "cleaned_df['Value'].isnull().values.any()"
   ]
  },
  {
   "cell_type": "code",
   "execution_count": null,
   "id": "227dbaf5",
   "metadata": {},
   "outputs": [],
   "source": [
    "cleaned_df.to_csv('protected_land_cleaned.csv')"
   ]
  }
 ],
 "metadata": {
  "kernelspec": {
   "display_name": "Python 3 (ipykernel)",
   "language": "python",
   "name": "python3"
  },
  "language_info": {
   "codemirror_mode": {
    "name": "ipython",
    "version": 3
   },
   "file_extension": ".py",
   "mimetype": "text/x-python",
   "name": "python",
   "nbconvert_exporter": "python",
   "pygments_lexer": "ipython3",
   "version": "3.9.7"
  }
 },
 "nbformat": 4,
 "nbformat_minor": 5
}
